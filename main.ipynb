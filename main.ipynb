{
 "cells": [
  {
   "cell_type": "code",
   "execution_count": 1,
   "metadata": {},
   "outputs": [],
   "source": [
    "# Run this again after editing submodules so Colab uses the updated versions\n",
    "from citylearn import  CityLearn\n",
    "import matplotlib.pyplot as plt\n",
    "from pathlib import Path\n",
    "from agent import RL_Agents_Coord\n",
    "import numpy as np                                                                                                                                                                                      \n",
    "import csv\n",
    "import time\n",
    "import re\n",
    "import pandas as pd\n",
    "import torch\n",
    "from joblib import dump, load"
   ]
  },
  {
   "cell_type": "code",
   "execution_count": 2,
   "metadata": {},
   "outputs": [],
   "source": [
    "# Load environment\n",
    "climate_zone = 1\n",
    "data_path = Path(\"data/Climate_Zone_\"+str(climate_zone))\n",
    "building_attributes = data_path / 'building_attributes.json'\n",
    "weather_file = data_path / 'weather_data.csv'\n",
    "solar_profile = data_path / 'solar_generation_1kW.csv'\n",
    "building_state_actions = 'buildings_state_action_space.json'\n",
    "building_id = [\"Building_1\",\"Building_2\",\"Building_3\",\"Building_4\",\"Building_5\",\"Building_6\",\"Building_7\",\"Building_8\",\"Building_9\"]\n",
    "objective_function = ['ramping','1-load_factor','average_daily_peak','peak_demand','net_electricity_consumption','quadratic']\n",
    "\n",
    "# Contain the lower and upper bounds of the states and actions, to be provided to the agent to normalize the variables between 0 and 1.\n",
    "# Can be obtained using observations_spaces[i].low or .high\n",
    "env = CityLearn(data_path, building_attributes, weather_file, solar_profile, building_id, buildings_states_actions = building_state_actions, cost_function = objective_function, verbose = 0, simulation_period=(0,8760-1))\n",
    "observations_spaces, actions_spaces = env.get_state_action_spaces()\n",
    "\n",
    "# Provides information on Building type, Climate Zone, Annual DHW demand, Annual Cooling Demand, Annual Electricity Demand, Solar Capacity, and correllations among buildings\n",
    "building_info = env.get_building_information()"
   ]
  },
  {
   "cell_type": "code",
   "execution_count": null,
   "metadata": {},
   "outputs": [
    {
     "name": "stdout",
     "output_type": "stream",
     "text": [
      "Loss - {'ramping': 1.1858019, '1-load_factor': 1.0515091535421228, 'average_daily_peak': 1.0630447, 'peak_demand': 1.3545321, 'net_electricity_consumption': 1.0559216, 'quadratic': 1.1747372, 'total': 1.147591096112662} Simulation time (min) - 0.7764881650606791\n",
      "Loss - {'ramping': 1.1920749, '1-load_factor': 1.0433186242174228, 'average_daily_peak': 1.0635817, 'peak_demand': 1.2397963, 'net_electricity_consumption': 1.0554883, 'quadratic': 1.1721505, 'total': 1.1277350576253586} Simulation time (min) - 4.081053332487742\n",
      "Loss - {'ramping': 1.1802362, '1-load_factor': 1.0491096751326676, 'average_daily_peak': 1.062877, 'peak_demand': 1.2275754, 'net_electricity_consumption': 1.0555992, 'quadratic': 1.1741147, 'total': 1.1249187154311995} Simulation time (min) - 8.14291519721349\n"
     ]
    }
   ],
   "source": [
    "# Hyperparameters\n",
    "bs = 256\n",
    "tau = 0.005\n",
    "gamma = 0.99\n",
    "lr = 0.0003\n",
    "hid = [256,256]\n",
    "\n",
    "n_episodes = 12\n",
    "\n",
    "# Instantiating the control agent(s)\n",
    "agents = RL_Agents_Coord(building_id, building_state_actions, building_info, observations_spaces, actions_spaces, discount = gamma, batch_size = bs, replay_buffer_capacity = 1e5, regression_buffer_capacity = 12*8760, tau=tau, lr=lr, hidden_dim=hid, start_training=8760*3, exploration_period = 8760*3+1,  start_regression=8760, information_sharing = True, pca_compression = .95, action_scaling_coef=0.5, reward_scaling = 5., update_per_step = 1, iterations_as = 2)\n",
    "\n",
    "# The number of episodes can be replaces by a stopping criterion (i.e. convergence of the average reward)\n",
    "start = time.time()\n",
    "for e in range(n_episodes): \n",
    "    is_evaluating = (e > 7) # Evaluate deterministic policy after 7 epochs\n",
    "    rewards = []\n",
    "    state = env.reset()\n",
    "    done = False\n",
    "\n",
    "    j = 0\n",
    "    action, coordination_vars = agents.select_action(state, deterministic=is_evaluating)    \n",
    "    while not done:\n",
    "        next_state, reward, done, _ = env.step(action)\n",
    "        action_next, coordination_vars_next = agents.select_action(next_state, deterministic=is_evaluating)\n",
    "        agents.add_to_buffer(state, action, reward, next_state, done, coordination_vars, coordination_vars_next)\n",
    "\n",
    "        state = next_state\n",
    "        coordination_vars = coordination_vars_next\n",
    "        action = action_next\n",
    "\n",
    "    print('Loss -',env.cost(), 'Simulation time (min) -',(time.time()-start)/60.0)"
   ]
  },
  {
   "cell_type": "code",
   "execution_count": null,
   "metadata": {},
   "outputs": [],
   "source": []
  }
 ],
 "metadata": {
  "kernelspec": {
   "display_name": "Python 3",
   "language": "python",
   "name": "python3"
  },
  "language_info": {
   "codemirror_mode": {
    "name": "ipython",
    "version": 3
   },
   "file_extension": ".py",
   "mimetype": "text/x-python",
   "name": "python",
   "nbconvert_exporter": "python",
   "pygments_lexer": "ipython3",
   "version": "3.8.3"
  }
 },
 "nbformat": 4,
 "nbformat_minor": 4
}
